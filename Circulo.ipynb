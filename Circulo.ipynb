{
  "nbformat": 4,
  "nbformat_minor": 0,
  "metadata": {
    "colab": {
      "provenance": [],
      "authorship_tag": "ABX9TyNdal0/z6SKcfbZ82W9o20H",
      "include_colab_link": true
    },
    "kernelspec": {
      "name": "python3",
      "display_name": "Python 3"
    },
    "language_info": {
      "name": "python"
    }
  },
  "cells": [
    {
      "cell_type": "markdown",
      "metadata": {
        "id": "view-in-github",
        "colab_type": "text"
      },
      "source": [
        "<a href=\"https://colab.research.google.com/github/Axel-Terrazas/Hola-Mundo/blob/main/Circulo.ipynb\" target=\"_parent\"><img src=\"https://colab.research.google.com/assets/colab-badge.svg\" alt=\"Open In Colab\"/></a>"
      ]
    },
    {
      "cell_type": "code",
      "source": [
        "from typing_extensions import final\n",
        "# Programa que calcula el área y perímetro de un circulo\n",
        "r = float(input(\" DAME EL VALOR DEL RADIO \")) #solicita el valor del radio\n",
        "pi = 3.14159 #asignamos el valor a la constante pi\n",
        "area = (pi * r * r)\n",
        "perimetro = ((2*pi)* r)\n",
        "print(type(area)) #verificamos el tipo de variable de salida\n",
        "print(type(perimetro)) #verificamos el tipo de variable de salida\n",
        "print (\"el área del circulo es \", area)\n",
        "print (\"el perímetro del circulo es  \", perimetro)"
      ],
      "metadata": {
        "id": "x7kKCeOjBWxp",
        "colab": {
          "base_uri": "https://localhost:8080/"
        },
        "outputId": "2051178c-d00d-43d9-c15c-690d808fc2f5"
      },
      "execution_count": 4,
      "outputs": [
        {
          "output_type": "stream",
          "name": "stdout",
          "text": [
            " DAME EL VALOR DEL RADIO 4\n",
            "<class 'float'>\n",
            "<class 'float'>\n",
            "el área del circulo es  50.26544\n",
            "el perímetro del circulo es   25.13272\n"
          ]
        }
      ]
    }
  ]
}